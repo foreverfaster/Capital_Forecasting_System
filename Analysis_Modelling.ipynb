{
 "cells": [
  {
   "cell_type": "code",
   "execution_count": 9,
   "id": "1cb38954",
   "metadata": {},
   "outputs": [
    {
     "name": "stdout",
     "output_type": "stream",
     "text": [
      "Requirement already satisfied: pandas in c:\\users\\harshvardhan singh\\onedrive\\desktop\\python\\lib\\site-packages (2.2.3)\n",
      "Requirement already satisfied: numpy>=1.23.2 in c:\\users\\harshvardhan singh\\onedrive\\desktop\\python\\lib\\site-packages (from pandas) (2.2.5)\n",
      "Requirement already satisfied: python-dateutil>=2.8.2 in c:\\users\\harshvardhan singh\\appdata\\roaming\\python\\python311\\site-packages (from pandas) (2.9.0.post0)\n",
      "Requirement already satisfied: pytz>=2020.1 in c:\\users\\harshvardhan singh\\onedrive\\desktop\\python\\lib\\site-packages (from pandas) (2025.2)\n",
      "Requirement already satisfied: tzdata>=2022.7 in c:\\users\\harshvardhan singh\\onedrive\\desktop\\python\\lib\\site-packages (from pandas) (2025.2)\n",
      "Requirement already satisfied: six>=1.5 in c:\\users\\harshvardhan singh\\appdata\\roaming\\python\\python311\\site-packages (from python-dateutil>=2.8.2->pandas) (1.17.0)\n"
     ]
    },
    {
     "name": "stderr",
     "output_type": "stream",
     "text": [
      "\n",
      "[notice] A new release of pip is available: 24.0 -> 25.1.1\n",
      "[notice] To update, run: python.exe -m pip install --upgrade pip\n"
     ]
    }
   ],
   "source": [
    "!pip install pandas"
   ]
  },
  {
   "cell_type": "code",
   "execution_count": 10,
   "id": "ee148fb6",
   "metadata": {},
   "outputs": [],
   "source": [
    "import pandas as pd"
   ]
  },
  {
   "cell_type": "code",
   "execution_count": 11,
   "id": "5c5ed810",
   "metadata": {},
   "outputs": [
    {
     "name": "stdout",
     "output_type": "stream",
     "text": [
      "Requirement already satisfied: openpyxl in c:\\users\\harshvardhan singh\\onedrive\\desktop\\python\\lib\\site-packages (3.1.5)\n",
      "Requirement already satisfied: et-xmlfile in c:\\users\\harshvardhan singh\\onedrive\\desktop\\python\\lib\\site-packages (from openpyxl) (2.0.0)\n"
     ]
    },
    {
     "name": "stderr",
     "output_type": "stream",
     "text": [
      "\n",
      "[notice] A new release of pip is available: 24.0 -> 25.1.1\n",
      "[notice] To update, run: python.exe -m pip install --upgrade pip\n"
     ]
    }
   ],
   "source": [
    "!pip install openpyxl"
   ]
  },
  {
   "cell_type": "code",
   "execution_count": 12,
   "id": "e088e966",
   "metadata": {},
   "outputs": [],
   "source": [
    "data=pd.read_excel(\"C:/Users/Harshvardhan Singh/OneDrive/Desktop/EMPLOYEE_SALARY_PROJECT/Employees.xlsx\")\n"
   ]
  },
  {
   "cell_type": "code",
   "execution_count": 13,
   "id": "a92c92f3",
   "metadata": {},
   "outputs": [
    {
     "data": {
      "text/html": [
       "<div>\n",
       "<style scoped>\n",
       "    .dataframe tbody tr th:only-of-type {\n",
       "        vertical-align: middle;\n",
       "    }\n",
       "\n",
       "    .dataframe tbody tr th {\n",
       "        vertical-align: top;\n",
       "    }\n",
       "\n",
       "    .dataframe thead th {\n",
       "        text-align: right;\n",
       "    }\n",
       "</style>\n",
       "<table border=\"1\" class=\"dataframe\">\n",
       "  <thead>\n",
       "    <tr style=\"text-align: right;\">\n",
       "      <th></th>\n",
       "      <th>No</th>\n",
       "      <th>First Name</th>\n",
       "      <th>Last Name</th>\n",
       "      <th>Gender</th>\n",
       "      <th>Start Date</th>\n",
       "      <th>Years</th>\n",
       "      <th>Department</th>\n",
       "      <th>Country</th>\n",
       "      <th>Center</th>\n",
       "      <th>Monthly Salary</th>\n",
       "      <th>Annual Salary</th>\n",
       "      <th>Job Rate</th>\n",
       "      <th>Sick Leaves</th>\n",
       "      <th>Unpaid Leaves</th>\n",
       "      <th>Overtime Hours</th>\n",
       "    </tr>\n",
       "  </thead>\n",
       "  <tbody>\n",
       "    <tr>\n",
       "      <th>0</th>\n",
       "      <td>1</td>\n",
       "      <td>Ghadir</td>\n",
       "      <td>Hmshw</td>\n",
       "      <td>Male</td>\n",
       "      <td>2018-04-04</td>\n",
       "      <td>2</td>\n",
       "      <td>Quality Control</td>\n",
       "      <td>Egypt</td>\n",
       "      <td>West</td>\n",
       "      <td>1560</td>\n",
       "      <td>18720</td>\n",
       "      <td>3.0</td>\n",
       "      <td>1</td>\n",
       "      <td>0</td>\n",
       "      <td>183</td>\n",
       "    </tr>\n",
       "    <tr>\n",
       "      <th>1</th>\n",
       "      <td>2</td>\n",
       "      <td>Omar</td>\n",
       "      <td>Hishan</td>\n",
       "      <td>Male</td>\n",
       "      <td>2020-05-21</td>\n",
       "      <td>0</td>\n",
       "      <td>Quality Control</td>\n",
       "      <td>Saudi Arabia</td>\n",
       "      <td>West</td>\n",
       "      <td>3247</td>\n",
       "      <td>38964</td>\n",
       "      <td>1.0</td>\n",
       "      <td>0</td>\n",
       "      <td>5</td>\n",
       "      <td>198</td>\n",
       "    </tr>\n",
       "    <tr>\n",
       "      <th>2</th>\n",
       "      <td>3</td>\n",
       "      <td>Ailya</td>\n",
       "      <td>Sharaf</td>\n",
       "      <td>Female</td>\n",
       "      <td>2017-09-28</td>\n",
       "      <td>3</td>\n",
       "      <td>Major Mfg Projects</td>\n",
       "      <td>Saudi Arabia</td>\n",
       "      <td>West</td>\n",
       "      <td>2506</td>\n",
       "      <td>30072</td>\n",
       "      <td>2.0</td>\n",
       "      <td>0</td>\n",
       "      <td>3</td>\n",
       "      <td>192</td>\n",
       "    </tr>\n",
       "    <tr>\n",
       "      <th>3</th>\n",
       "      <td>4</td>\n",
       "      <td>Lwiy</td>\n",
       "      <td>Qbany</td>\n",
       "      <td>Male</td>\n",
       "      <td>2018-08-14</td>\n",
       "      <td>2</td>\n",
       "      <td>Manufacturing</td>\n",
       "      <td>United Arab Emirates</td>\n",
       "      <td>Main</td>\n",
       "      <td>1828</td>\n",
       "      <td>21936</td>\n",
       "      <td>3.0</td>\n",
       "      <td>0</td>\n",
       "      <td>0</td>\n",
       "      <td>7</td>\n",
       "    </tr>\n",
       "    <tr>\n",
       "      <th>4</th>\n",
       "      <td>5</td>\n",
       "      <td>Ahmad</td>\n",
       "      <td>Bikri</td>\n",
       "      <td>Male</td>\n",
       "      <td>2020-03-11</td>\n",
       "      <td>0</td>\n",
       "      <td>Manufacturing</td>\n",
       "      <td>Egypt</td>\n",
       "      <td>Main</td>\n",
       "      <td>970</td>\n",
       "      <td>11640</td>\n",
       "      <td>5.0</td>\n",
       "      <td>0</td>\n",
       "      <td>5</td>\n",
       "      <td>121</td>\n",
       "    </tr>\n",
       "  </tbody>\n",
       "</table>\n",
       "</div>"
      ],
      "text/plain": [
       "   No First Name Last Name  Gender Start Date  Years          Department  \\\n",
       "0   1     Ghadir     Hmshw    Male 2018-04-04      2     Quality Control   \n",
       "1   2       Omar    Hishan    Male 2020-05-21      0     Quality Control   \n",
       "2   3      Ailya    Sharaf  Female 2017-09-28      3  Major Mfg Projects   \n",
       "3   4       Lwiy     Qbany    Male 2018-08-14      2       Manufacturing   \n",
       "4   5      Ahmad     Bikri    Male 2020-03-11      0       Manufacturing   \n",
       "\n",
       "                Country Center  Monthly Salary  Annual Salary  Job Rate  \\\n",
       "0                 Egypt   West            1560          18720       3.0   \n",
       "1          Saudi Arabia   West            3247          38964       1.0   \n",
       "2          Saudi Arabia   West            2506          30072       2.0   \n",
       "3  United Arab Emirates   Main            1828          21936       3.0   \n",
       "4                 Egypt   Main             970          11640       5.0   \n",
       "\n",
       "   Sick Leaves  Unpaid Leaves  Overtime Hours  \n",
       "0            1              0             183  \n",
       "1            0              5             198  \n",
       "2            0              3             192  \n",
       "3            0              0               7  \n",
       "4            0              5             121  "
      ]
     },
     "execution_count": 13,
     "metadata": {},
     "output_type": "execute_result"
    }
   ],
   "source": [
    "data.head()"
   ]
  },
  {
   "cell_type": "code",
   "execution_count": 14,
   "id": "daaf7009",
   "metadata": {},
   "outputs": [
    {
     "name": "stdout",
     "output_type": "stream",
     "text": [
      "<class 'pandas.core.frame.DataFrame'>\n",
      "RangeIndex: 689 entries, 0 to 688\n",
      "Data columns (total 15 columns):\n",
      " #   Column          Non-Null Count  Dtype         \n",
      "---  ------          --------------  -----         \n",
      " 0   No              689 non-null    int64         \n",
      " 1   First Name      689 non-null    object        \n",
      " 2   Last Name       689 non-null    object        \n",
      " 3   Gender          689 non-null    object        \n",
      " 4   Start Date      689 non-null    datetime64[ns]\n",
      " 5   Years           689 non-null    int64         \n",
      " 6   Department      689 non-null    object        \n",
      " 7   Country         689 non-null    object        \n",
      " 8   Center          689 non-null    object        \n",
      " 9   Monthly Salary  689 non-null    int64         \n",
      " 10  Annual Salary   689 non-null    int64         \n",
      " 11  Job Rate        689 non-null    float64       \n",
      " 12  Sick Leaves     689 non-null    int64         \n",
      " 13  Unpaid Leaves   689 non-null    int64         \n",
      " 14  Overtime Hours  689 non-null    int64         \n",
      "dtypes: datetime64[ns](1), float64(1), int64(7), object(6)\n",
      "memory usage: 80.9+ KB\n"
     ]
    }
   ],
   "source": [
    "data.info()"
   ]
  },
  {
   "cell_type": "code",
   "execution_count": 15,
   "id": "3300f070",
   "metadata": {},
   "outputs": [
    {
     "data": {
      "text/plain": [
       "(689, 15)"
      ]
     },
     "execution_count": 15,
     "metadata": {},
     "output_type": "execute_result"
    }
   ],
   "source": [
    "data.shape"
   ]
  },
  {
   "cell_type": "code",
   "execution_count": 16,
   "id": "c5f8976a",
   "metadata": {},
   "outputs": [
    {
     "data": {
      "text/plain": [
       "No                0\n",
       "First Name        0\n",
       "Last Name         0\n",
       "Gender            0\n",
       "Start Date        0\n",
       "Years             0\n",
       "Department        0\n",
       "Country           0\n",
       "Center            0\n",
       "Monthly Salary    0\n",
       "Annual Salary     0\n",
       "Job Rate          0\n",
       "Sick Leaves       0\n",
       "Unpaid Leaves     0\n",
       "Overtime Hours    0\n",
       "dtype: int64"
      ]
     },
     "execution_count": 16,
     "metadata": {},
     "output_type": "execute_result"
    }
   ],
   "source": [
    "data.isna().sum()"
   ]
  },
  {
   "cell_type": "code",
   "execution_count": 17,
   "id": "82eba5e3",
   "metadata": {},
   "outputs": [
    {
     "data": {
      "text/plain": [
       "np.int64(0)"
      ]
     },
     "execution_count": 17,
     "metadata": {},
     "output_type": "execute_result"
    }
   ],
   "source": [
    "data.duplicated().sum()"
   ]
  },
  {
   "cell_type": "code",
   "execution_count": 18,
   "id": "a0c14ee0",
   "metadata": {},
   "outputs": [
    {
     "data": {
      "text/html": [
       "<div>\n",
       "<style scoped>\n",
       "    .dataframe tbody tr th:only-of-type {\n",
       "        vertical-align: middle;\n",
       "    }\n",
       "\n",
       "    .dataframe tbody tr th {\n",
       "        vertical-align: top;\n",
       "    }\n",
       "\n",
       "    .dataframe thead th {\n",
       "        text-align: right;\n",
       "    }\n",
       "</style>\n",
       "<table border=\"1\" class=\"dataframe\">\n",
       "  <thead>\n",
       "    <tr style=\"text-align: right;\">\n",
       "      <th></th>\n",
       "      <th>No</th>\n",
       "      <th>First Name</th>\n",
       "      <th>Last Name</th>\n",
       "      <th>Gender</th>\n",
       "      <th>Start Date</th>\n",
       "      <th>Years</th>\n",
       "      <th>Department</th>\n",
       "      <th>Country</th>\n",
       "      <th>Center</th>\n",
       "      <th>Monthly Salary</th>\n",
       "      <th>Annual Salary</th>\n",
       "      <th>Job Rate</th>\n",
       "      <th>Sick Leaves</th>\n",
       "      <th>Unpaid Leaves</th>\n",
       "      <th>Overtime Hours</th>\n",
       "    </tr>\n",
       "  </thead>\n",
       "  <tbody>\n",
       "    <tr>\n",
       "      <th>0</th>\n",
       "      <td>1</td>\n",
       "      <td>Ghadir</td>\n",
       "      <td>Hmshw</td>\n",
       "      <td>Male</td>\n",
       "      <td>2018-04-04</td>\n",
       "      <td>2</td>\n",
       "      <td>Quality Control</td>\n",
       "      <td>Egypt</td>\n",
       "      <td>West</td>\n",
       "      <td>1560</td>\n",
       "      <td>18720</td>\n",
       "      <td>3.0</td>\n",
       "      <td>1</td>\n",
       "      <td>0</td>\n",
       "      <td>183</td>\n",
       "    </tr>\n",
       "    <tr>\n",
       "      <th>1</th>\n",
       "      <td>2</td>\n",
       "      <td>Omar</td>\n",
       "      <td>Hishan</td>\n",
       "      <td>Male</td>\n",
       "      <td>2020-05-21</td>\n",
       "      <td>0</td>\n",
       "      <td>Quality Control</td>\n",
       "      <td>Saudi Arabia</td>\n",
       "      <td>West</td>\n",
       "      <td>3247</td>\n",
       "      <td>38964</td>\n",
       "      <td>1.0</td>\n",
       "      <td>0</td>\n",
       "      <td>5</td>\n",
       "      <td>198</td>\n",
       "    </tr>\n",
       "    <tr>\n",
       "      <th>2</th>\n",
       "      <td>3</td>\n",
       "      <td>Ailya</td>\n",
       "      <td>Sharaf</td>\n",
       "      <td>Female</td>\n",
       "      <td>2017-09-28</td>\n",
       "      <td>3</td>\n",
       "      <td>Major Mfg Projects</td>\n",
       "      <td>Saudi Arabia</td>\n",
       "      <td>West</td>\n",
       "      <td>2506</td>\n",
       "      <td>30072</td>\n",
       "      <td>2.0</td>\n",
       "      <td>0</td>\n",
       "      <td>3</td>\n",
       "      <td>192</td>\n",
       "    </tr>\n",
       "  </tbody>\n",
       "</table>\n",
       "</div>"
      ],
      "text/plain": [
       "   No First Name Last Name  Gender Start Date  Years          Department  \\\n",
       "0   1     Ghadir     Hmshw    Male 2018-04-04      2     Quality Control   \n",
       "1   2       Omar    Hishan    Male 2020-05-21      0     Quality Control   \n",
       "2   3      Ailya    Sharaf  Female 2017-09-28      3  Major Mfg Projects   \n",
       "\n",
       "        Country Center  Monthly Salary  Annual Salary  Job Rate  Sick Leaves  \\\n",
       "0         Egypt   West            1560          18720       3.0            1   \n",
       "1  Saudi Arabia   West            3247          38964       1.0            0   \n",
       "2  Saudi Arabia   West            2506          30072       2.0            0   \n",
       "\n",
       "   Unpaid Leaves  Overtime Hours  \n",
       "0              0             183  \n",
       "1              5             198  \n",
       "2              3             192  "
      ]
     },
     "execution_count": 18,
     "metadata": {},
     "output_type": "execute_result"
    }
   ],
   "source": [
    "data.head(3)"
   ]
  },
  {
   "cell_type": "code",
   "execution_count": 19,
   "id": "279355cf",
   "metadata": {},
   "outputs": [
    {
     "name": "stdout",
     "output_type": "stream",
     "text": [
      "Requirement already satisfied: matplotlib in c:\\users\\harshvardhan singh\\onedrive\\desktop\\python\\lib\\site-packages (3.10.3)\n",
      "Requirement already satisfied: contourpy>=1.0.1 in c:\\users\\harshvardhan singh\\onedrive\\desktop\\python\\lib\\site-packages (from matplotlib) (1.3.2)\n",
      "Requirement already satisfied: cycler>=0.10 in c:\\users\\harshvardhan singh\\onedrive\\desktop\\python\\lib\\site-packages (from matplotlib) (0.12.1)\n",
      "Requirement already satisfied: fonttools>=4.22.0 in c:\\users\\harshvardhan singh\\onedrive\\desktop\\python\\lib\\site-packages (from matplotlib) (4.58.0)\n",
      "Requirement already satisfied: kiwisolver>=1.3.1 in c:\\users\\harshvardhan singh\\onedrive\\desktop\\python\\lib\\site-packages (from matplotlib) (1.4.8)\n",
      "Requirement already satisfied: numpy>=1.23 in c:\\users\\harshvardhan singh\\onedrive\\desktop\\python\\lib\\site-packages (from matplotlib) (2.2.5)\n",
      "Requirement already satisfied: packaging>=20.0 in c:\\users\\harshvardhan singh\\appdata\\roaming\\python\\python311\\site-packages (from matplotlib) (25.0)\n",
      "Requirement already satisfied: pillow>=8 in c:\\users\\harshvardhan singh\\onedrive\\desktop\\python\\lib\\site-packages (from matplotlib) (11.2.1)\n",
      "Requirement already satisfied: pyparsing>=2.3.1 in c:\\users\\harshvardhan singh\\onedrive\\desktop\\python\\lib\\site-packages (from matplotlib) (3.2.3)\n",
      "Requirement already satisfied: python-dateutil>=2.7 in c:\\users\\harshvardhan singh\\appdata\\roaming\\python\\python311\\site-packages (from matplotlib) (2.9.0.post0)\n",
      "Requirement already satisfied: six>=1.5 in c:\\users\\harshvardhan singh\\appdata\\roaming\\python\\python311\\site-packages (from python-dateutil>=2.7->matplotlib) (1.17.0)\n"
     ]
    },
    {
     "name": "stderr",
     "output_type": "stream",
     "text": [
      "\n",
      "[notice] A new release of pip is available: 24.0 -> 25.1.1\n",
      "[notice] To update, run: python.exe -m pip install --upgrade pip\n"
     ]
    }
   ],
   "source": [
    "!pip install matplotlib"
   ]
  },
  {
   "cell_type": "code",
   "execution_count": 20,
   "id": "3756e591",
   "metadata": {},
   "outputs": [],
   "source": [
    "import matplotlib.pyplot as plt"
   ]
  },
  {
   "cell_type": "code",
   "execution_count": 21,
   "id": "a439ddc2",
   "metadata": {},
   "outputs": [
    {
     "data": {
      "image/png": "[encoded data removed]",
      "text/plain": [
       "<Figure size 640x480 with 1 Axes>"
      ]
     },
     "metadata": {},
     "output_type": "display_data"
    }
   ],
   "source": [
    "data[\"Gender\"].value_counts().sort_values(ascending=False).plot(kind=\"pie\")\n",
    "plt.title(\"Pie chart of Gender Columns\")\n",
    "plt.ylabel(\"\")\n",
    "plt.show()"
   ]
  },
  {
   "cell_type": "code",
   "execution_count": 22,
   "id": "ddb722dd",
   "metadata": {},
   "outputs": [
    {
     "data": {
      "text/html": [
       "<div>\n",
       "<style scoped>\n",
       "    .dataframe tbody tr th:only-of-type {\n",
       "        vertical-align: middle;\n",
       "    }\n",
       "\n",
       "    .dataframe tbody tr th {\n",
       "        vertical-align: top;\n",
       "    }\n",
       "\n",
       "    .dataframe thead th {\n",
       "        text-align: right;\n",
       "    }\n",
       "</style>\n",
       "<table border=\"1\" class=\"dataframe\">\n",
       "  <thead>\n",
       "    <tr style=\"text-align: right;\">\n",
       "      <th></th>\n",
       "      <th>No</th>\n",
       "      <th>First Name</th>\n",
       "      <th>Last Name</th>\n",
       "      <th>Gender</th>\n",
       "      <th>Start Date</th>\n",
       "      <th>Years</th>\n",
       "      <th>Department</th>\n",
       "      <th>Country</th>\n",
       "      <th>Center</th>\n",
       "      <th>Monthly Salary</th>\n",
       "      <th>Annual Salary</th>\n",
       "      <th>Job Rate</th>\n",
       "      <th>Sick Leaves</th>\n",
       "      <th>Unpaid Leaves</th>\n",
       "      <th>Overtime Hours</th>\n",
       "    </tr>\n",
       "  </thead>\n",
       "  <tbody>\n",
       "    <tr>\n",
       "      <th>0</th>\n",
       "      <td>1</td>\n",
       "      <td>Ghadir</td>\n",
       "      <td>Hmshw</td>\n",
       "      <td>Male</td>\n",
       "      <td>2018-04-04</td>\n",
       "      <td>2</td>\n",
       "      <td>Quality Control</td>\n",
       "      <td>Egypt</td>\n",
       "      <td>West</td>\n",
       "      <td>1560</td>\n",
       "      <td>18720</td>\n",
       "      <td>3.0</td>\n",
       "      <td>1</td>\n",
       "      <td>0</td>\n",
       "      <td>183</td>\n",
       "    </tr>\n",
       "    <tr>\n",
       "      <th>1</th>\n",
       "      <td>2</td>\n",
       "      <td>Omar</td>\n",
       "      <td>Hishan</td>\n",
       "      <td>Male</td>\n",
       "      <td>2020-05-21</td>\n",
       "      <td>0</td>\n",
       "      <td>Quality Control</td>\n",
       "      <td>Saudi Arabia</td>\n",
       "      <td>West</td>\n",
       "      <td>3247</td>\n",
       "      <td>38964</td>\n",
       "      <td>1.0</td>\n",
       "      <td>0</td>\n",
       "      <td>5</td>\n",
       "      <td>198</td>\n",
       "    </tr>\n",
       "  </tbody>\n",
       "</table>\n",
       "</div>"
      ],
      "text/plain": [
       "   No First Name Last Name Gender Start Date  Years       Department  \\\n",
       "0   1     Ghadir     Hmshw   Male 2018-04-04      2  Quality Control   \n",
       "1   2       Omar    Hishan   Male 2020-05-21      0  Quality Control   \n",
       "\n",
       "        Country Center  Monthly Salary  Annual Salary  Job Rate  Sick Leaves  \\\n",
       "0         Egypt   West            1560          18720       3.0            1   \n",
       "1  Saudi Arabia   West            3247          38964       1.0            0   \n",
       "\n",
       "   Unpaid Leaves  Overtime Hours  \n",
       "0              0             183  \n",
       "1              5             198  "
      ]
     },
     "execution_count": 22,
     "metadata": {},
     "output_type": "execute_result"
    }
   ],
   "source": [
    "data.head(2)"
   ]
  },
  {
   "cell_type": "code",
   "execution_count": 23,
   "id": "3468ac3f",
   "metadata": {},
   "outputs": [
    {
     "data": {
      "image/png": "[encoded data removed]",
      "text/plain": [
       "<Figure size 640x480 with 1 Axes>"
      ]
     },
     "metadata": {},
     "output_type": "display_data"
    }
   ],
   "source": [
    "plt.hist(data[\"Job Rate\"])\n",
    "plt.title(\"Histogram of Job Rates\")\n",
    "plt.xlabel(\"Rate\")\n",
    "plt.ylabel(\"Count\")\n",
    "plt.show()"
   ]
  },
  {
   "cell_type": "code",
   "execution_count": 24,
   "id": "c0afd52f",
   "metadata": {},
   "outputs": [
    {
     "data": {
      "text/plain": [
       "count    689.000000\n",
       "mean       3.586357\n",
       "std        1.350125\n",
       "min        1.000000\n",
       "25%        3.000000\n",
       "50%        3.000000\n",
       "75%        5.000000\n",
       "max        5.000000\n",
       "Name: Job Rate, dtype: float64"
      ]
     },
     "execution_count": 24,
     "metadata": {},
     "output_type": "execute_result"
    }
   ],
   "source": [
    "data[\"Job Rate\"].describe()"
   ]
  },
  {
   "cell_type": "code",
   "execution_count": 25,
   "id": "9d45d391",
   "metadata": {},
   "outputs": [
    {
     "data": {
      "text/html": [
       "<div>\n",
       "<style scoped>\n",
       "    .dataframe tbody tr th:only-of-type {\n",
       "        vertical-align: middle;\n",
       "    }\n",
       "\n",
       "    .dataframe tbody tr th {\n",
       "        vertical-align: top;\n",
       "    }\n",
       "\n",
       "    .dataframe thead th {\n",
       "        text-align: right;\n",
       "    }\n",
       "</style>\n",
       "<table border=\"1\" class=\"dataframe\">\n",
       "  <thead>\n",
       "    <tr style=\"text-align: right;\">\n",
       "      <th></th>\n",
       "      <th>No</th>\n",
       "      <th>First Name</th>\n",
       "      <th>Last Name</th>\n",
       "      <th>Gender</th>\n",
       "      <th>Start Date</th>\n",
       "      <th>Years</th>\n",
       "      <th>Department</th>\n",
       "      <th>Country</th>\n",
       "      <th>Center</th>\n",
       "      <th>Monthly Salary</th>\n",
       "      <th>Annual Salary</th>\n",
       "      <th>Job Rate</th>\n",
       "      <th>Sick Leaves</th>\n",
       "      <th>Unpaid Leaves</th>\n",
       "      <th>Overtime Hours</th>\n",
       "    </tr>\n",
       "  </thead>\n",
       "  <tbody>\n",
       "    <tr>\n",
       "      <th>0</th>\n",
       "      <td>1</td>\n",
       "      <td>Ghadir</td>\n",
       "      <td>Hmshw</td>\n",
       "      <td>Male</td>\n",
       "      <td>2018-04-04</td>\n",
       "      <td>2</td>\n",
       "      <td>Quality Control</td>\n",
       "      <td>Egypt</td>\n",
       "      <td>West</td>\n",
       "      <td>1560</td>\n",
       "      <td>18720</td>\n",
       "      <td>3.0</td>\n",
       "      <td>1</td>\n",
       "      <td>0</td>\n",
       "      <td>183</td>\n",
       "    </tr>\n",
       "    <tr>\n",
       "      <th>1</th>\n",
       "      <td>2</td>\n",
       "      <td>Omar</td>\n",
       "      <td>Hishan</td>\n",
       "      <td>Male</td>\n",
       "      <td>2020-05-21</td>\n",
       "      <td>0</td>\n",
       "      <td>Quality Control</td>\n",
       "      <td>Saudi Arabia</td>\n",
       "      <td>West</td>\n",
       "      <td>3247</td>\n",
       "      <td>38964</td>\n",
       "      <td>1.0</td>\n",
       "      <td>0</td>\n",
       "      <td>5</td>\n",
       "      <td>198</td>\n",
       "    </tr>\n",
       "    <tr>\n",
       "      <th>2</th>\n",
       "      <td>3</td>\n",
       "      <td>Ailya</td>\n",
       "      <td>Sharaf</td>\n",
       "      <td>Female</td>\n",
       "      <td>2017-09-28</td>\n",
       "      <td>3</td>\n",
       "      <td>Major Mfg Projects</td>\n",
       "      <td>Saudi Arabia</td>\n",
       "      <td>West</td>\n",
       "      <td>2506</td>\n",
       "      <td>30072</td>\n",
       "      <td>2.0</td>\n",
       "      <td>0</td>\n",
       "      <td>3</td>\n",
       "      <td>192</td>\n",
       "    </tr>\n",
       "    <tr>\n",
       "      <th>3</th>\n",
       "      <td>4</td>\n",
       "      <td>Lwiy</td>\n",
       "      <td>Qbany</td>\n",
       "      <td>Male</td>\n",
       "      <td>2018-08-14</td>\n",
       "      <td>2</td>\n",
       "      <td>Manufacturing</td>\n",
       "      <td>United Arab Emirates</td>\n",
       "      <td>Main</td>\n",
       "      <td>1828</td>\n",
       "      <td>21936</td>\n",
       "      <td>3.0</td>\n",
       "      <td>0</td>\n",
       "      <td>0</td>\n",
       "      <td>7</td>\n",
       "    </tr>\n",
       "    <tr>\n",
       "      <th>4</th>\n",
       "      <td>5</td>\n",
       "      <td>Ahmad</td>\n",
       "      <td>Bikri</td>\n",
       "      <td>Male</td>\n",
       "      <td>2020-03-11</td>\n",
       "      <td>0</td>\n",
       "      <td>Manufacturing</td>\n",
       "      <td>Egypt</td>\n",
       "      <td>Main</td>\n",
       "      <td>970</td>\n",
       "      <td>11640</td>\n",
       "      <td>5.0</td>\n",
       "      <td>0</td>\n",
       "      <td>5</td>\n",
       "      <td>121</td>\n",
       "    </tr>\n",
       "  </tbody>\n",
       "</table>\n",
       "</div>"
      ],
      "text/plain": [
       "   No First Name Last Name  Gender Start Date  Years          Department  \\\n",
       "0   1     Ghadir     Hmshw    Male 2018-04-04      2     Quality Control   \n",
       "1   2       Omar    Hishan    Male 2020-05-21      0     Quality Control   \n",
       "2   3      Ailya    Sharaf  Female 2017-09-28      3  Major Mfg Projects   \n",
       "3   4       Lwiy     Qbany    Male 2018-08-14      2       Manufacturing   \n",
       "4   5      Ahmad     Bikri    Male 2020-03-11      0       Manufacturing   \n",
       "\n",
       "                Country Center  Monthly Salary  Annual Salary  Job Rate  \\\n",
       "0                 Egypt   West            1560          18720       3.0   \n",
       "1          Saudi Arabia   West            3247          38964       1.0   \n",
       "2          Saudi Arabia   West            2506          30072       2.0   \n",
       "3  United Arab Emirates   Main            1828          21936       3.0   \n",
       "4                 Egypt   Main             970          11640       5.0   \n",
       "\n",
       "   Sick Leaves  Unpaid Leaves  Overtime Hours  \n",
       "0            1              0             183  \n",
       "1            0              5             198  \n",
       "2            0              3             192  \n",
       "3            0              0               7  \n",
       "4            0              5             121  "
      ]
     },
     "execution_count": 25,
     "metadata": {},
     "output_type": "execute_result"
    }
   ],
   "source": [
    "data.head()"
   ]
  },
  {
   "cell_type": "code",
   "execution_count": 26,
   "id": "816bf211",
   "metadata": {},
   "outputs": [
    {
     "data": {
      "image/png": "[encoded data removed]",
      "text/plain": [
       "<Figure size 640x480 with 1 Axes>"
      ]
     },
     "metadata": {},
     "output_type": "display_data"
    }
   ],
   "source": [
    "data.groupby(\"Department\")[\"Annual Salary\"].mean().sort_values(ascending=False).head(7).plot(kind=\"bar\")\n",
    "plt.title(\"Average Salary Graph by Department\")\n",
    "plt.xlabel(\"Departmment\")\n",
    "plt.ylabel(\"Average Salary\")\n",
    "plt.show()"
   ]
  },
  {
   "cell_type": "code",
   "execution_count": 27,
   "id": "220d76bc",
   "metadata": {},
   "outputs": [
    {
     "data": {
      "text/plain": [
       "Center\n",
       "East     2274.021277\n",
       "West     2068.672269\n",
       "North    2064.811594\n",
       "Main     2054.776892\n",
       "South    1981.153846\n",
       "Name: Monthly Salary, dtype: float64"
      ]
     },
     "execution_count": 27,
     "metadata": {},
     "output_type": "execute_result"
    }
   ],
   "source": [
    "data.groupby(\"Center\")[\"Monthly Salary\"].mean().sort_values(ascending=False)"
   ]
  },
  {
   "cell_type": "code",
   "execution_count": 28,
   "id": "9089c85b",
   "metadata": {},
   "outputs": [
    {
     "data": {
      "text/plain": [
       "array(['Egypt', 'Saudi Arabia', 'United Arab Emirates', 'Syria',\n",
       "       'Lebanon'], dtype=object)"
      ]
     },
     "execution_count": 28,
     "metadata": {},
     "output_type": "execute_result"
    }
   ],
   "source": [
    "data[\"Country\"].unique()"
   ]
  },
  {
   "cell_type": "code",
   "execution_count": 29,
   "id": "5a0ad4fd",
   "metadata": {},
   "outputs": [
    {
     "data": {
      "image/png": "[encoded data removed]",
      "text/plain": [
       "<Figure size 640x480 with 1 Axes>"
      ]
     },
     "metadata": {},
     "output_type": "display_data"
    }
   ],
   "source": [
    "data.groupby(\"Country\")[\"Job Rate\"].mean().sort_values(ascending=False).plot(kind=\"bar\")\n",
    "plt.title(\"Job RATES BY Country\")\n",
    "plt.xlabel(\"Country\")\n",
    "plt.ylabel(\"Jobb Rate Average\")\n",
    "plt.show()"
   ]
  },
  {
   "cell_type": "code",
   "execution_count": null,
   "id": "0dcdbc99",
   "metadata": {},
   "outputs": [],
   "source": []
  },
  {
   "cell_type": "code",
   "execution_count": 30,
   "id": "6e7da177",
   "metadata": {},
   "outputs": [
    {
     "data": {
      "image/png": "[encoded data removed]",
      "text/plain": [
       "<Figure size 640x480 with 1 Axes>"
      ]
     },
     "metadata": {},
     "output_type": "display_data"
    }
   ],
   "source": [
    "import matplotlib.pyplot as plt\n",
    "\n",
    "plt.hist(data[\"Overtime Hours\"])\n",
    "plt.title(\"Histogram of Overtime Hours\")\n",
    "plt.xlabel(\"Overtime Hours\")\n",
    "plt.ylabel(\"Frequency\")\n",
    "plt.show()"
   ]
  },
  {
   "cell_type": "code",
   "execution_count": 31,
   "id": "4d5e06ff",
   "metadata": {},
   "outputs": [
    {
     "data": {
      "text/plain": [
       "count    689.000000\n",
       "mean      13.702467\n",
       "std       25.692049\n",
       "min        0.000000\n",
       "25%        3.000000\n",
       "50%        7.000000\n",
       "75%       10.000000\n",
       "max      198.000000\n",
       "Name: Overtime Hours, dtype: float64"
      ]
     },
     "execution_count": 31,
     "metadata": {},
     "output_type": "execute_result"
    }
   ],
   "source": [
    "data[\"Overtime Hours\"].describe()"
   ]
  },
  {
   "cell_type": "code",
   "execution_count": 33,
   "id": "929e71fe",
   "metadata": {},
   "outputs": [
    {
     "data": {
      "text/plain": [
       "count      689.000000\n",
       "mean     24818.420900\n",
       "std       9159.470878\n",
       "min       8436.000000\n",
       "25%      17232.000000\n",
       "50%      24924.000000\n",
       "75%      32184.000000\n",
       "max      41400.000000\n",
       "Name: Annual Salary, dtype: float64"
      ]
     },
     "execution_count": 33,
     "metadata": {},
     "output_type": "execute_result"
    }
   ],
   "source": [
    "data[\"Annual Salary\"].describe()"
   ]
  },
  {
   "cell_type": "code",
   "execution_count": 35,
   "id": "7508b86a",
   "metadata": {},
   "outputs": [
    {
     "data": {
      "text/plain": [
       "Index(['No', 'First Name', 'Last Name', 'Gender', 'Start Date', 'Years',\n",
       "       'Department', 'Country', 'Center', 'Monthly Salary', 'Annual Salary',\n",
       "       'Job Rate', 'Sick Leaves', 'Unpaid Leaves', 'Overtime Hours'],\n",
       "      dtype='object')"
      ]
     },
     "execution_count": 35,
     "metadata": {},
     "output_type": "execute_result"
    }
   ],
   "source": [
    "data.columns"
   ]
  },
  {
   "cell_type": "code",
   "execution_count": 36,
   "id": "685a92e6",
   "metadata": {},
   "outputs": [],
   "source": [
    "x=data[[\"Years\",\"Job Rate\"]]\n",
    "y=data[\"Annual Salary\"]\n"
   ]
  },
  {
   "cell_type": "code",
   "execution_count": 38,
   "id": "89e7a156",
   "metadata": {},
   "outputs": [
    {
     "name": "stdout",
     "output_type": "stream",
     "text": [
      "Collecting scikit-learn\n",
      "  Downloading scikit_learn-1.6.1-cp311-cp311-win_amd64.whl.metadata (15 kB)\n",
      "Requirement already satisfied: numpy>=1.19.5 in c:\\users\\harshvardhan singh\\onedrive\\desktop\\python\\lib\\site-packages (from scikit-learn) (2.2.5)\n",
      "Collecting scipy>=1.6.0 (from scikit-learn)\n",
      "  Downloading scipy-1.15.3-cp311-cp311-win_amd64.whl.metadata (60 kB)\n",
      "     ---------------------------------------- 0.0/60.8 kB ? eta -:--:--\n",
      "     ------------------------- ------------ 41.0/60.8 kB 991.0 kB/s eta 0:00:01\n",
      "     -------------------------------------- 60.8/60.8 kB 647.7 kB/s eta 0:00:00\n",
      "Collecting joblib>=1.2.0 (from scikit-learn)\n",
      "  Downloading joblib-1.5.0-py3-none-any.whl.metadata (5.6 kB)\n",
      "Collecting threadpoolctl>=3.1.0 (from scikit-learn)\n",
      "  Downloading threadpoolctl-3.6.0-py3-none-any.whl.metadata (13 kB)\n",
      "Downloading scikit_learn-1.6.1-cp311-cp311-win_amd64.whl (11.1 MB)\n",
      "   ---------------------------------------- 0.0/11.1 MB ? eta -:--:--\n",
      "   ---------------------------------------- 0.1/11.1 MB 1.7 MB/s eta 0:00:07\n",
      "    --------------------------------------- 0.3/11.1 MB 2.8 MB/s eta 0:00:04\n",
      "   - -------------------------------------- 0.5/11.1 MB 3.1 MB/s eta 0:00:04\n",
      "   -- ------------------------------------- 0.6/11.1 MB 3.3 MB/s eta 0:00:04\n",
      "   -- ------------------------------------- 0.8/11.1 MB 3.5 MB/s eta 0:00:03\n",
      "   --- ------------------------------------ 0.9/11.1 MB 3.0 MB/s eta 0:00:04\n",
      "   --- ------------------------------------ 1.0/11.1 MB 3.0 MB/s eta 0:00:04\n",
      "   --- ------------------------------------ 1.0/11.1 MB 2.8 MB/s eta 0:00:04\n",
      "   ---- ----------------------------------- 1.2/11.1 MB 2.9 MB/s eta 0:00:04\n",
      "   ---- ----------------------------------- 1.3/11.1 MB 2.9 MB/s eta 0:00:04\n",
      "   ----- ---------------------------------- 1.5/11.1 MB 2.8 MB/s eta 0:00:04\n",
      "   ----- ---------------------------------- 1.5/11.1 MB 2.7 MB/s eta 0:00:04\n",
      "   ----- ---------------------------------- 1.6/11.1 MB 2.7 MB/s eta 0:00:04\n",
      "   ------ --------------------------------- 1.8/11.1 MB 2.8 MB/s eta 0:00:04\n",
      "   ------- -------------------------------- 2.0/11.1 MB 2.9 MB/s eta 0:00:04\n",
      "   ------- -------------------------------- 2.2/11.1 MB 2.9 MB/s eta 0:00:04\n",
      "   --------- ------------------------------ 2.5/11.1 MB 3.1 MB/s eta 0:00:03\n",
      "   --------- ------------------------------ 2.6/11.1 MB 3.0 MB/s eta 0:00:03\n",
      "   ---------- ----------------------------- 2.8/11.1 MB 3.1 MB/s eta 0:00:03\n",
      "   ---------- ----------------------------- 3.0/11.1 MB 3.1 MB/s eta 0:00:03\n",
      "   ----------- ---------------------------- 3.2/11.1 MB 3.2 MB/s eta 0:00:03\n",
      "   ------------ --------------------------- 3.4/11.1 MB 3.4 MB/s eta 0:00:03\n",
      "   ------------ --------------------------- 3.6/11.1 MB 3.4 MB/s eta 0:00:03\n",
      "   -------------- ------------------------- 4.0/11.1 MB 3.5 MB/s eta 0:00:03\n",
      "   -------------- ------------------------- 4.1/11.1 MB 3.5 MB/s eta 0:00:02\n",
      "   --------------- ------------------------ 4.5/11.1 MB 3.6 MB/s eta 0:00:02\n",
      "   ----------------- ---------------------- 4.7/11.1 MB 3.7 MB/s eta 0:00:02\n",
      "   ----------------- ---------------------- 5.0/11.1 MB 3.8 MB/s eta 0:00:02\n",
      "   ------------------ --------------------- 5.2/11.1 MB 3.8 MB/s eta 0:00:02\n",
      "   ------------------- -------------------- 5.4/11.1 MB 3.9 MB/s eta 0:00:02\n",
      "   -------------------- ------------------- 5.6/11.1 MB 3.9 MB/s eta 0:00:02\n",
      "   -------------------- ------------------- 5.7/11.1 MB 3.9 MB/s eta 0:00:02\n",
      "   --------------------- ------------------ 5.9/11.1 MB 3.9 MB/s eta 0:00:02\n",
      "   ---------------------- ----------------- 6.1/11.1 MB 3.9 MB/s eta 0:00:02\n",
      "   ---------------------- ----------------- 6.2/11.1 MB 3.8 MB/s eta 0:00:02\n",
      "   ---------------------- ----------------- 6.2/11.1 MB 3.8 MB/s eta 0:00:02\n",
      "   ---------------------- ----------------- 6.2/11.1 MB 3.7 MB/s eta 0:00:02\n",
      "   ---------------------- ----------------- 6.3/11.1 MB 3.6 MB/s eta 0:00:02\n",
      "   ----------------------- ---------------- 6.6/11.1 MB 3.7 MB/s eta 0:00:02\n",
      "   ------------------------ --------------- 6.8/11.1 MB 3.7 MB/s eta 0:00:02\n",
      "   ------------------------- -------------- 7.1/11.1 MB 3.7 MB/s eta 0:00:02\n",
      "   -------------------------- ------------- 7.5/11.1 MB 3.8 MB/s eta 0:00:01\n",
      "   --------------------------- ------------ 7.7/11.1 MB 3.9 MB/s eta 0:00:01\n",
      "   ---------------------------- ----------- 8.0/11.1 MB 3.9 MB/s eta 0:00:01\n",
      "   ----------------------------- ---------- 8.2/11.1 MB 3.9 MB/s eta 0:00:01\n",
      "   ------------------------------ --------- 8.5/11.1 MB 4.0 MB/s eta 0:00:01\n",
      "   ------------------------------- -------- 8.9/11.1 MB 4.0 MB/s eta 0:00:01\n",
      "   -------------------------------- ------- 9.1/11.1 MB 4.1 MB/s eta 0:00:01\n",
      "   --------------------------------- ------ 9.3/11.1 MB 4.1 MB/s eta 0:00:01\n",
      "   ----------------------------------- ---- 9.8/11.1 MB 4.2 MB/s eta 0:00:01\n",
      "   ------------------------------------ --- 10.1/11.1 MB 4.3 MB/s eta 0:00:01\n",
      "   ------------------------------------ --- 10.3/11.1 MB 4.3 MB/s eta 0:00:01\n",
      "   -------------------------------------- - 10.6/11.1 MB 4.4 MB/s eta 0:00:01\n",
      "   ---------------------------------------  10.9/11.1 MB 4.5 MB/s eta 0:00:01\n",
      "   ---------------------------------------  11.1/11.1 MB 4.5 MB/s eta 0:00:01\n",
      "   ---------------------------------------  11.1/11.1 MB 4.5 MB/s eta 0:00:01\n",
      "   ---------------------------------------- 11.1/11.1 MB 4.4 MB/s eta 0:00:00\n",
      "Downloading joblib-1.5.0-py3-none-any.whl (307 kB)\n",
      "   ---------------------------------------- 0.0/307.7 kB ? eta -:--:--\n",
      "   ---------------------------------------  307.2/307.7 kB 6.3 MB/s eta 0:00:01\n",
      "   ---------------------------------------- 307.7/307.7 kB 4.7 MB/s eta 0:00:00\n",
      "Downloading scipy-1.15.3-cp311-cp311-win_amd64.whl (41.2 MB)\n",
      "   ---------------------------------------- 0.0/41.2 MB ? eta -:--:--\n",
      "   ---------------------------------------- 0.2/41.2 MB 5.3 MB/s eta 0:00:08\n",
      "   ---------------------------------------- 0.5/41.2 MB 5.9 MB/s eta 0:00:07\n",
      "    --------------------------------------- 0.8/41.2 MB 6.1 MB/s eta 0:00:07\n",
      "   - -------------------------------------- 1.2/41.2 MB 7.4 MB/s eta 0:00:06\n",
      "   - -------------------------------------- 1.2/41.2 MB 5.3 MB/s eta 0:00:08\n",
      "   - -------------------------------------- 1.5/41.2 MB 5.6 MB/s eta 0:00:08\n",
      "   - -------------------------------------- 1.8/41.2 MB 5.9 MB/s eta 0:00:07\n",
      "   -- ------------------------------------- 2.2/41.2 MB 6.2 MB/s eta 0:00:07\n",
      "   -- ------------------------------------- 2.3/41.2 MB 5.7 MB/s eta 0:00:07\n",
      "   -- ------------------------------------- 2.6/41.2 MB 5.7 MB/s eta 0:00:07\n",
      "   -- ------------------------------------- 2.9/41.2 MB 5.7 MB/s eta 0:00:07\n",
      "   --- ------------------------------------ 3.1/41.2 MB 5.8 MB/s eta 0:00:07\n",
      "   --- ------------------------------------ 3.3/41.2 MB 5.6 MB/s eta 0:00:07\n",
      "   --- ------------------------------------ 3.5/41.2 MB 5.4 MB/s eta 0:00:07\n",
      "   --- ------------------------------------ 3.8/41.2 MB 5.4 MB/s eta 0:00:07\n",
      "   --- ------------------------------------ 4.1/41.2 MB 5.7 MB/s eta 0:00:07\n",
      "   --- ------------------------------------ 4.1/41.2 MB 5.7 MB/s eta 0:00:07\n",
      "   ---- ----------------------------------- 4.2/41.2 MB 5.1 MB/s eta 0:00:08\n",
      "   ---- ----------------------------------- 4.8/41.2 MB 5.5 MB/s eta 0:00:07\n",
      "   ----- ---------------------------------- 5.2/41.2 MB 5.7 MB/s eta 0:00:07\n",
      "   ----- ---------------------------------- 5.4/41.2 MB 5.7 MB/s eta 0:00:07\n",
      "   ----- ---------------------------------- 5.8/41.2 MB 5.8 MB/s eta 0:00:07\n",
      "   ----- ---------------------------------- 6.1/41.2 MB 5.9 MB/s eta 0:00:07\n",
      "   ------ --------------------------------- 6.4/41.2 MB 5.8 MB/s eta 0:00:06\n",
      "   ------ --------------------------------- 6.7/41.2 MB 5.9 MB/s eta 0:00:06\n",
      "   ------ --------------------------------- 7.0/41.2 MB 5.9 MB/s eta 0:00:06\n",
      "   ------- -------------------------------- 7.3/41.2 MB 5.9 MB/s eta 0:00:06\n",
      "   ------- -------------------------------- 7.5/41.2 MB 5.9 MB/s eta 0:00:06\n",
      "   ------- -------------------------------- 8.1/41.2 MB 6.1 MB/s eta 0:00:06\n",
      "   -------- ------------------------------- 8.3/41.2 MB 6.1 MB/s eta 0:00:06\n",
      "   -------- ------------------------------- 8.7/41.2 MB 6.1 MB/s eta 0:00:06\n",
      "   -------- ------------------------------- 9.0/41.2 MB 6.1 MB/s eta 0:00:06\n",
      "   --------- ------------------------------ 9.4/41.2 MB 6.2 MB/s eta 0:00:06\n",
      "   --------- ------------------------------ 9.5/41.2 MB 6.1 MB/s eta 0:00:06\n",
      "   --------- ------------------------------ 9.7/41.2 MB 6.0 MB/s eta 0:00:06\n",
      "   --------- ------------------------------ 9.9/41.2 MB 6.0 MB/s eta 0:00:06\n",
      "   --------- ------------------------------ 10.3/41.2 MB 6.1 MB/s eta 0:00:06\n",
      "   ---------- ----------------------------- 10.7/41.2 MB 6.2 MB/s eta 0:00:05\n",
      "   ---------- ----------------------------- 11.0/41.2 MB 6.2 MB/s eta 0:00:05\n",
      "   ----------- ---------------------------- 11.4/41.2 MB 6.1 MB/s eta 0:00:05\n",
      "   ----------- ---------------------------- 11.6/41.2 MB 6.3 MB/s eta 0:00:05\n",
      "   ----------- ---------------------------- 11.9/41.2 MB 6.3 MB/s eta 0:00:05\n",
      "   ----------- ---------------------------- 12.1/41.2 MB 6.2 MB/s eta 0:00:05\n",
      "   ----------- ---------------------------- 12.1/41.2 MB 6.1 MB/s eta 0:00:05\n",
      "   ------------ --------------------------- 12.5/41.2 MB 6.1 MB/s eta 0:00:05\n",
      "   ------------ --------------------------- 12.7/41.2 MB 6.1 MB/s eta 0:00:05\n",
      "   ------------ --------------------------- 13.1/41.2 MB 6.2 MB/s eta 0:00:05\n",
      "   ------------ --------------------------- 13.4/41.2 MB 6.2 MB/s eta 0:00:05\n",
      "   ------------- -------------------------- 13.6/41.2 MB 6.2 MB/s eta 0:00:05\n",
      "   ------------- -------------------------- 13.8/41.2 MB 6.2 MB/s eta 0:00:05\n",
      "   ------------- -------------------------- 14.1/41.2 MB 6.2 MB/s eta 0:00:05\n",
      "   ------------- -------------------------- 14.3/41.2 MB 6.1 MB/s eta 0:00:05\n",
      "   -------------- ------------------------- 14.5/41.2 MB 6.4 MB/s eta 0:00:05\n",
      "   -------------- ------------------------- 14.8/41.2 MB 6.2 MB/s eta 0:00:05\n",
      "   -------------- ------------------------- 15.0/41.2 MB 6.2 MB/s eta 0:00:05\n",
      "   -------------- ------------------------- 15.3/41.2 MB 6.1 MB/s eta 0:00:05\n",
      "   --------------- ------------------------ 15.5/41.2 MB 6.1 MB/s eta 0:00:05\n",
      "   --------------- ------------------------ 15.6/41.2 MB 5.9 MB/s eta 0:00:05\n",
      "   --------------- ------------------------ 15.9/41.2 MB 6.0 MB/s eta 0:00:05\n",
      "   --------------- ------------------------ 16.1/41.2 MB 5.9 MB/s eta 0:00:05\n",
      "   --------------- ------------------------ 16.4/41.2 MB 5.8 MB/s eta 0:00:05\n",
      "   ---------------- ----------------------- 16.8/41.2 MB 5.9 MB/s eta 0:00:05\n",
      "   ---------------- ----------------------- 17.0/41.2 MB 5.8 MB/s eta 0:00:05\n",
      "   ---------------- ----------------------- 17.2/41.2 MB 5.8 MB/s eta 0:00:05\n",
      "   ---------------- ----------------------- 17.5/41.2 MB 5.9 MB/s eta 0:00:05\n",
      "   ----------------- ---------------------- 17.7/41.2 MB 5.8 MB/s eta 0:00:05\n",
      "   ----------------- ---------------------- 17.9/41.2 MB 5.8 MB/s eta 0:00:05\n",
      "   ----------------- ---------------------- 18.3/41.2 MB 5.7 MB/s eta 0:00:05\n",
      "   ------------------ --------------------- 18.6/41.2 MB 5.7 MB/s eta 0:00:04\n",
      "   ------------------ --------------------- 18.8/41.2 MB 5.6 MB/s eta 0:00:05\n",
      "   ------------------ --------------------- 19.3/41.2 MB 5.7 MB/s eta 0:00:04\n",
      "   ------------------ --------------------- 19.5/41.2 MB 5.6 MB/s eta 0:00:04\n",
      "   ------------------- -------------------- 19.9/41.2 MB 5.8 MB/s eta 0:00:04\n",
      "   ------------------- -------------------- 20.3/41.2 MB 5.8 MB/s eta 0:00:04\n",
      "   ------------------- -------------------- 20.5/41.2 MB 5.8 MB/s eta 0:00:04\n",
      "   -------------------- ------------------- 20.9/41.2 MB 5.8 MB/s eta 0:00:04\n",
      "   -------------------- ------------------- 21.2/41.2 MB 5.8 MB/s eta 0:00:04\n",
      "   -------------------- ------------------- 21.4/41.2 MB 5.8 MB/s eta 0:00:04\n",
      "   --------------------- ------------------ 21.7/41.2 MB 5.7 MB/s eta 0:00:04\n",
      "   --------------------- ------------------ 22.0/41.2 MB 5.8 MB/s eta 0:00:04\n",
      "   --------------------- ------------------ 22.4/41.2 MB 6.0 MB/s eta 0:00:04\n",
      "   ---------------------- ----------------- 22.7/41.2 MB 6.0 MB/s eta 0:00:04\n",
      "   ---------------------- ----------------- 22.9/41.2 MB 6.0 MB/s eta 0:00:04\n",
      "   ---------------------- ----------------- 23.2/41.2 MB 6.0 MB/s eta 0:00:04\n",
      "   ---------------------- ----------------- 23.4/41.2 MB 5.8 MB/s eta 0:00:04\n",
      "   ---------------------- ----------------- 23.6/41.2 MB 5.8 MB/s eta 0:00:04\n",
      "   ----------------------- ---------------- 23.9/41.2 MB 5.8 MB/s eta 0:00:03\n",
      "   ----------------------- ---------------- 24.5/41.2 MB 5.9 MB/s eta 0:00:03\n",
      "   ----------------------- ---------------- 24.7/41.2 MB 6.0 MB/s eta 0:00:03\n",
      "   ------------------------ --------------- 24.9/41.2 MB 5.9 MB/s eta 0:00:03\n",
      "   ------------------------ --------------- 25.2/41.2 MB 6.0 MB/s eta 0:00:03\n",
      "   ------------------------ --------------- 25.4/41.2 MB 5.9 MB/s eta 0:00:03\n",
      "   ------------------------ --------------- 25.6/41.2 MB 5.8 MB/s eta 0:00:03\n",
      "   ------------------------- -------------- 25.9/41.2 MB 6.0 MB/s eta 0:00:03\n",
      "   ------------------------- -------------- 26.0/41.2 MB 5.8 MB/s eta 0:00:03\n",
      "   ------------------------- -------------- 26.4/41.2 MB 6.0 MB/s eta 0:00:03\n",
      "   ------------------------- -------------- 26.6/41.2 MB 6.0 MB/s eta 0:00:03\n",
      "   -------------------------- ------------- 26.9/41.2 MB 6.0 MB/s eta 0:00:03\n",
      "   -------------------------- ------------- 27.2/41.2 MB 6.0 MB/s eta 0:00:03\n",
      "   -------------------------- ------------- 27.5/41.2 MB 6.0 MB/s eta 0:00:03\n",
      "   -------------------------- ------------- 27.7/41.2 MB 5.9 MB/s eta 0:00:03\n",
      "   --------------------------- ------------ 28.0/41.2 MB 6.0 MB/s eta 0:00:03\n",
      "   --------------------------- ------------ 28.3/41.2 MB 6.1 MB/s eta 0:00:03\n",
      "   --------------------------- ------------ 28.5/41.2 MB 5.8 MB/s eta 0:00:03\n",
      "   --------------------------- ------------ 28.8/41.2 MB 5.9 MB/s eta 0:00:03\n",
      "   ---------------------------- ----------- 28.9/41.2 MB 6.0 MB/s eta 0:00:03\n",
      "   ---------------------------- ----------- 28.9/41.2 MB 6.0 MB/s eta 0:00:03\n",
      "   ---------------------------- ----------- 29.5/41.2 MB 5.8 MB/s eta 0:00:03\n",
      "   ---------------------------- ----------- 29.7/41.2 MB 5.7 MB/s eta 0:00:03\n",
      "   ----------------------------- ---------- 30.0/41.2 MB 5.7 MB/s eta 0:00:02\n",
      "   ----------------------------- ---------- 30.4/41.2 MB 5.7 MB/s eta 0:00:02\n",
      "   ----------------------------- ---------- 30.6/41.2 MB 5.6 MB/s eta 0:00:02\n",
      "   ----------------------------- ---------- 30.9/41.2 MB 5.6 MB/s eta 0:00:02\n",
      "   ------------------------------ --------- 31.2/41.2 MB 5.7 MB/s eta 0:00:02\n",
      "   ------------------------------ --------- 31.5/41.2 MB 5.6 MB/s eta 0:00:02\n",
      "   ------------------------------ --------- 31.7/41.2 MB 5.6 MB/s eta 0:00:02\n",
      "   ------------------------------ --------- 31.9/41.2 MB 5.6 MB/s eta 0:00:02\n",
      "   ------------------------------- -------- 32.4/41.2 MB 5.7 MB/s eta 0:00:02\n",
      "   ------------------------------- -------- 32.6/41.2 MB 5.6 MB/s eta 0:00:02\n",
      "   ------------------------------- -------- 32.9/41.2 MB 5.6 MB/s eta 0:00:02\n",
      "   -------------------------------- ------- 33.2/41.2 MB 5.7 MB/s eta 0:00:02\n",
      "   -------------------------------- ------- 33.2/41.2 MB 5.5 MB/s eta 0:00:02\n",
      "   -------------------------------- ------- 33.6/41.2 MB 5.6 MB/s eta 0:00:02\n",
      "   -------------------------------- ------- 33.9/41.2 MB 5.6 MB/s eta 0:00:02\n",
      "   --------------------------------- ------ 34.3/41.2 MB 5.7 MB/s eta 0:00:02\n",
      "   --------------------------------- ------ 34.5/41.2 MB 5.6 MB/s eta 0:00:02\n",
      "   --------------------------------- ------ 34.7/41.2 MB 5.6 MB/s eta 0:00:02\n",
      "   --------------------------------- ------ 34.8/41.2 MB 5.6 MB/s eta 0:00:02\n",
      "   --------------------------------- ------ 35.0/41.2 MB 5.6 MB/s eta 0:00:02\n",
      "   ---------------------------------- ----- 35.4/41.2 MB 5.6 MB/s eta 0:00:02\n",
      "   ---------------------------------- ----- 35.5/41.2 MB 5.6 MB/s eta 0:00:02\n",
      "   ---------------------------------- ----- 35.7/41.2 MB 5.6 MB/s eta 0:00:01\n",
      "   ---------------------------------- ----- 35.9/41.2 MB 5.5 MB/s eta 0:00:01\n",
      "   ----------------------------------- ---- 36.3/41.2 MB 5.6 MB/s eta 0:00:01\n",
      "   ----------------------------------- ---- 36.4/41.2 MB 5.5 MB/s eta 0:00:01\n",
      "   ----------------------------------- ---- 36.7/41.2 MB 5.6 MB/s eta 0:00:01\n",
      "   ----------------------------------- ---- 37.0/41.2 MB 5.5 MB/s eta 0:00:01\n",
      "   ------------------------------------ --- 37.2/41.2 MB 5.6 MB/s eta 0:00:01\n",
      "   ------------------------------------ --- 37.5/41.2 MB 5.5 MB/s eta 0:00:01\n",
      "   ------------------------------------ --- 37.6/41.2 MB 5.4 MB/s eta 0:00:01\n",
      "   ------------------------------------ --- 37.9/41.2 MB 5.5 MB/s eta 0:00:01\n",
      "   ------------------------------------- -- 38.2/41.2 MB 5.5 MB/s eta 0:00:01\n",
      "   ------------------------------------- -- 38.3/41.2 MB 5.4 MB/s eta 0:00:01\n",
      "   ------------------------------------- -- 38.6/41.2 MB 5.4 MB/s eta 0:00:01\n",
      "   ------------------------------------- -- 38.9/41.2 MB 5.5 MB/s eta 0:00:01\n",
      "   -------------------------------------- - 39.3/41.2 MB 5.7 MB/s eta 0:00:01\n",
      "   -------------------------------------- - 39.5/41.2 MB 5.7 MB/s eta 0:00:01\n",
      "   -------------------------------------- - 39.7/41.2 MB 5.6 MB/s eta 0:00:01\n",
      "   -------------------------------------- - 40.1/41.2 MB 5.5 MB/s eta 0:00:01\n",
      "   ---------------------------------------  40.3/41.2 MB 5.6 MB/s eta 0:00:01\n",
      "   ---------------------------------------  40.5/41.2 MB 5.5 MB/s eta 0:00:01\n",
      "   ---------------------------------------  40.7/41.2 MB 5.5 MB/s eta 0:00:01\n",
      "   ---------------------------------------  41.1/41.2 MB 5.5 MB/s eta 0:00:01\n",
      "   ---------------------------------------  41.2/41.2 MB 5.5 MB/s eta 0:00:01\n",
      "   ---------------------------------------  41.2/41.2 MB 5.5 MB/s eta 0:00:01\n",
      "   ---------------------------------------  41.2/41.2 MB 5.5 MB/s eta 0:00:01\n",
      "   ---------------------------------------- 41.2/41.2 MB 5.1 MB/s eta 0:00:00\n",
      "Downloading threadpoolctl-3.6.0-py3-none-any.whl (18 kB)\n",
      "Installing collected packages: threadpoolctl, scipy, joblib, scikit-learn\n",
      "Successfully installed joblib-1.5.0 scikit-learn-1.6.1 scipy-1.15.3 threadpoolctl-3.6.0\n"
     ]
    },
    {
     "name": "stderr",
     "output_type": "stream",
     "text": [
      "\n",
      "[notice] A new release of pip is available: 24.0 -> 25.1.1\n",
      "[notice] To update, run: python.exe -m pip install --upgrade pip\n"
     ]
    }
   ],
   "source": [
    "!pip install scikit-learn"
   ]
  },
  {
   "cell_type": "code",
   "execution_count": 42,
   "id": "977e65cc",
   "metadata": {},
   "outputs": [],
   "source": [
    "from sklearn.model_selection import train_test_split\n",
    "x_train,x_test,y_train,y_test=train_test_split(x,y,test_size=0.2)"
   ]
  },
  {
   "cell_type": "code",
   "execution_count": 43,
   "id": "3c589b53",
   "metadata": {},
   "outputs": [
    {
     "data": {
      "text/plain": [
       "551"
      ]
     },
     "execution_count": 43,
     "metadata": {},
     "output_type": "execute_result"
    }
   ],
   "source": [
    "len(y_train)"
   ]
  },
  {
   "cell_type": "code",
   "execution_count": 44,
   "id": "3e3841ec",
   "metadata": {},
   "outputs": [
    {
     "data": {
      "text/plain": [
       "138"
      ]
     },
     "execution_count": 44,
     "metadata": {},
     "output_type": "execute_result"
    }
   ],
   "source": [
    "len(x_test)"
   ]
  },
  {
   "cell_type": "code",
   "execution_count": 45,
   "id": "0cec9475",
   "metadata": {},
   "outputs": [],
   "source": [
    "from sklearn.linear_model import LinearRegression"
   ]
  },
  {
   "cell_type": "code",
   "execution_count": 46,
   "id": "6c6c56fb",
   "metadata": {},
   "outputs": [],
   "source": [
    "lr=LinearRegression()"
   ]
  },
  {
   "cell_type": "code",
   "execution_count": 47,
   "id": "acef365a",
   "metadata": {},
   "outputs": [
    {
     "data": {
      "text/html": [
       "<style>#sk-container-id-1 {\n",
       "  /* Definition of color scheme common for light and dark mode */\n",
       "  --sklearn-color-text: #000;\n",
       "  --sklearn-color-text-muted: #666;\n",
       "  --sklearn-color-line: gray;\n",
       "  /* Definition of color scheme for unfitted estimators */\n",
       "  --sklearn-color-unfitted-level-0: #fff5e6;\n",
       "  --sklearn-color-unfitted-level-1: #f6e4d2;\n",
       "  --sklearn-color-unfitted-level-2: #ffe0b3;\n",
       "  --sklearn-color-unfitted-level-3: chocolate;\n",
       "  /* Definition of color scheme for fitted estimators */\n",
       "  --sklearn-color-fitted-level-0: #f0f8ff;\n",
       "  --sklearn-color-fitted-level-1: #d4ebff;\n",
       "  --sklearn-color-fitted-level-2: #b3dbfd;\n",
       "  --sklearn-color-fitted-level-3: cornflowerblue;\n",
       "\n",
       "  /* Specific color for light theme */\n",
       "  --sklearn-color-text-on-default-background: var(--sg-text-color, var(--theme-code-foreground, var(--jp-content-font-color1, black)));\n",
       "  --sklearn-color-background: var(--sg-background-color, var(--theme-background, var(--jp-layout-color0, white)));\n",
       "  --sklearn-color-border-box: var(--sg-text-color, var(--theme-code-foreground, var(--jp-content-font-color1, black)));\n",
       "  --sklearn-color-icon: #696969;\n",
       "\n",
       "  @media (prefers-color-scheme: dark) {\n",
       "    /* Redefinition of color scheme for dark theme */\n",
       "    --sklearn-color-text-on-default-background: var(--sg-text-color, var(--theme-code-foreground, var(--jp-content-font-color1, white)));\n",
       "    --sklearn-color-background: var(--sg-background-color, var(--theme-background, var(--jp-layout-color0, #111)));\n",
       "    --sklearn-color-border-box: var(--sg-text-color, var(--theme-code-foreground, var(--jp-content-font-color1, white)));\n",
       "    --sklearn-color-icon: #878787;\n",
       "  }\n",
       "}\n",
       "\n",
       "#sk-container-id-1 {\n",
       "  color: var(--sklearn-color-text);\n",
       "}\n",
       "\n",
       "#sk-container-id-1 pre {\n",
       "  padding: 0;\n",
       "}\n",
       "\n",
       "#sk-container-id-1 input.sk-hidden--visually {\n",
       "  border: 0;\n",
       "  clip: rect(1px 1px 1px 1px);\n",
       "  clip: rect(1px, 1px, 1px, 1px);\n",
       "  height: 1px;\n",
       "  margin: -1px;\n",
       "  overflow: hidden;\n",
       "  padding: 0;\n",
       "  position: absolute;\n",
       "  width: 1px;\n",
       "}\n",
       "\n",
       "#sk-container-id-1 div.sk-dashed-wrapped {\n",
       "  border: 1px dashed var(--sklearn-color-line);\n",
       "  margin: 0 0.4em 0.5em 0.4em;\n",
       "  box-sizing: border-box;\n",
       "  padding-bottom: 0.4em;\n",
       "  background-color: var(--sklearn-color-background);\n",
       "}\n",
       "\n",
       "#sk-container-id-1 div.sk-container {\n",
       "  /* jupyter's `normalize.less` sets `[hidden] { display: none; }`\n",
       "     but bootstrap.min.css set `[hidden] { display: none !important; }`\n",
       "     so we also need the `!important` here to be able to override the\n",
       "     default hidden behavior on the sphinx rendered scikit-learn.org.\n",
       "     See: https://github.com/scikit-learn/scikit-learn/issues/21755 */\n",
       "  display: inline-block !important;\n",
       "  position: relative;\n",
       "}\n",
       "\n",
       "#sk-container-id-1 div.sk-text-repr-fallback {\n",
       "  display: none;\n",
       "}\n",
       "\n",
       "div.sk-parallel-item,\n",
       "div.sk-serial,\n",
       "div.sk-item {\n",
       "  /* draw centered vertical line to link estimators */\n",
       "  background-image: linear-gradient(var(--sklearn-color-text-on-default-background), var(--sklearn-color-text-on-default-background));\n",
       "  background-size: 2px 100%;\n",
       "  background-repeat: no-repeat;\n",
       "  background-position: center center;\n",
       "}\n",
       "\n",
       "/* Parallel-specific style estimator block */\n",
       "\n",
       "#sk-container-id-1 div.sk-parallel-item::after {\n",
       "  content: \"\";\n",
       "  width: 100%;\n",
       "  border-bottom: 2px solid var(--sklearn-color-text-on-default-background);\n",
       "  flex-grow: 1;\n",
       "}\n",
       "\n",
       "#sk-container-id-1 div.sk-parallel {\n",
       "  display: flex;\n",
       "  align-items: stretch;\n",
       "  justify-content: center;\n",
       "  background-color: var(--sklearn-color-background);\n",
       "  position: relative;\n",
       "}\n",
       "\n",
       "#sk-container-id-1 div.sk-parallel-item {\n",
       "  display: flex;\n",
       "  flex-direction: column;\n",
       "}\n",
       "\n",
       "#sk-container-id-1 div.sk-parallel-item:first-child::after {\n",
       "  align-self: flex-end;\n",
       "  width: 50%;\n",
       "}\n",
       "\n",
       "#sk-container-id-1 div.sk-parallel-item:last-child::after {\n",
       "  align-self: flex-start;\n",
       "  width: 50%;\n",
       "}\n",
       "\n",
       "#sk-container-id-1 div.sk-parallel-item:only-child::after {\n",
       "  width: 0;\n",
       "}\n",
       "\n",
       "/* Serial-specific style estimator block */\n",
       "\n",
       "#sk-container-id-1 div.sk-serial {\n",
       "  display: flex;\n",
       "  flex-direction: column;\n",
       "  align-items: center;\n",
       "  background-color: var(--sklearn-color-background);\n",
       "  padding-right: 1em;\n",
       "  padding-left: 1em;\n",
       "}\n",
       "\n",
       "\n",
       "/* Toggleable style: style used for estimator/Pipeline/ColumnTransformer box that is\n",
       "clickable and can be expanded/collapsed.\n",
       "- Pipeline and ColumnTransformer use this feature and define the default style\n",
       "- Estimators will overwrite some part of the style using the `sk-estimator` class\n",
       "*/\n",
       "\n",
       "/* Pipeline and ColumnTransformer style (default) */\n",
       "\n",
       "#sk-container-id-1 div.sk-toggleable {\n",
       "  /* Default theme specific background. It is overwritten whether we have a\n",
       "  specific estimator or a Pipeline/ColumnTransformer */\n",
       "  background-color: var(--sklearn-color-background);\n",
       "}\n",
       "\n",
       "/* Toggleable label */\n",
       "#sk-container-id-1 label.sk-toggleable__label {\n",
       "  cursor: pointer;\n",
       "  display: flex;\n",
       "  width: 100%;\n",
       "  margin-bottom: 0;\n",
       "  padding: 0.5em;\n",
       "  box-sizing: border-box;\n",
       "  text-align: center;\n",
       "  align-items: start;\n",
       "  justify-content: space-between;\n",
       "  gap: 0.5em;\n",
       "}\n",
       "\n",
       "#sk-container-id-1 label.sk-toggleable__label .caption {\n",
       "  font-size: 0.6rem;\n",
       "  font-weight: lighter;\n",
       "  color: var(--sklearn-color-text-muted);\n",
       "}\n",
       "\n",
       "#sk-container-id-1 label.sk-toggleable__label-arrow:before {\n",
       "  /* Arrow on the left of the label */\n",
       "  content: \"▸\";\n",
       "  float: left;\n",
       "  margin-right: 0.25em;\n",
       "  color: var(--sklearn-color-icon);\n",
       "}\n",
       "\n",
       "#sk-container-id-1 label.sk-toggleable__label-arrow:hover:before {\n",
       "  color: var(--sklearn-color-text);\n",
       "}\n",
       "\n",
       "/* Toggleable content - dropdown */\n",
       "\n",
       "#sk-container-id-1 div.sk-toggleable__content {\n",
       "  max-height: 0;\n",
       "  max-width: 0;\n",
       "  overflow: hidden;\n",
       "  text-align: left;\n",
       "  /* unfitted */\n",
       "  background-color: var(--sklearn-color-unfitted-level-0);\n",
       "}\n",
       "\n",
       "#sk-container-id-1 div.sk-toggleable__content.fitted {\n",
       "  /* fitted */\n",
       "  background-color: var(--sklearn-color-fitted-level-0);\n",
       "}\n",
       "\n",
       "#sk-container-id-1 div.sk-toggleable__content pre {\n",
       "  margin: 0.2em;\n",
       "  border-radius: 0.25em;\n",
       "  color: var(--sklearn-color-text);\n",
       "  /* unfitted */\n",
       "  background-color: var(--sklearn-color-unfitted-level-0);\n",
       "}\n",
       "\n",
       "#sk-container-id-1 div.sk-toggleable__content.fitted pre {\n",
       "  /* unfitted */\n",
       "  background-color: var(--sklearn-color-fitted-level-0);\n",
       "}\n",
       "\n",
       "#sk-container-id-1 input.sk-toggleable__control:checked~div.sk-toggleable__content {\n",
       "  /* Expand drop-down */\n",
       "  max-height: 200px;\n",
       "  max-width: 100%;\n",
       "  overflow: auto;\n",
       "}\n",
       "\n",
       "#sk-container-id-1 input.sk-toggleable__control:checked~label.sk-toggleable__label-arrow:before {\n",
       "  content: \"▾\";\n",
       "}\n",
       "\n",
       "/* Pipeline/ColumnTransformer-specific style */\n",
       "\n",
       "#sk-container-id-1 div.sk-label input.sk-toggleable__control:checked~label.sk-toggleable__label {\n",
       "  color: var(--sklearn-color-text);\n",
       "  background-color: var(--sklearn-color-unfitted-level-2);\n",
       "}\n",
       "\n",
       "#sk-container-id-1 div.sk-label.fitted input.sk-toggleable__control:checked~label.sk-toggleable__label {\n",
       "  background-color: var(--sklearn-color-fitted-level-2);\n",
       "}\n",
       "\n",
       "/* Estimator-specific style */\n",
       "\n",
       "/* Colorize estimator box */\n",
       "#sk-container-id-1 div.sk-estimator input.sk-toggleable__control:checked~label.sk-toggleable__label {\n",
       "  /* unfitted */\n",
       "  background-color: var(--sklearn-color-unfitted-level-2);\n",
       "}\n",
       "\n",
       "#sk-container-id-1 div.sk-estimator.fitted input.sk-toggleable__control:checked~label.sk-toggleable__label {\n",
       "  /* fitted */\n",
       "  background-color: var(--sklearn-color-fitted-level-2);\n",
       "}\n",
       "\n",
       "#sk-container-id-1 div.sk-label label.sk-toggleable__label,\n",
       "#sk-container-id-1 div.sk-label label {\n",
       "  /* The background is the default theme color */\n",
       "  color: var(--sklearn-color-text-on-default-background);\n",
       "}\n",
       "\n",
       "/* On hover, darken the color of the background */\n",
       "#sk-container-id-1 div.sk-label:hover label.sk-toggleable__label {\n",
       "  color: var(--sklearn-color-text);\n",
       "  background-color: var(--sklearn-color-unfitted-level-2);\n",
       "}\n",
       "\n",
       "/* Label box, darken color on hover, fitted */\n",
       "#sk-container-id-1 div.sk-label.fitted:hover label.sk-toggleable__label.fitted {\n",
       "  color: var(--sklearn-color-text);\n",
       "  background-color: var(--sklearn-color-fitted-level-2);\n",
       "}\n",
       "\n",
       "/* Estimator label */\n",
       "\n",
       "#sk-container-id-1 div.sk-label label {\n",
       "  font-family: monospace;\n",
       "  font-weight: bold;\n",
       "  display: inline-block;\n",
       "  line-height: 1.2em;\n",
       "}\n",
       "\n",
       "#sk-container-id-1 div.sk-label-container {\n",
       "  text-align: center;\n",
       "}\n",
       "\n",
       "/* Estimator-specific */\n",
       "#sk-container-id-1 div.sk-estimator {\n",
       "  font-family: monospace;\n",
       "  border: 1px dotted var(--sklearn-color-border-box);\n",
       "  border-radius: 0.25em;\n",
       "  box-sizing: border-box;\n",
       "  margin-bottom: 0.5em;\n",
       "  /* unfitted */\n",
       "  background-color: var(--sklearn-color-unfitted-level-0);\n",
       "}\n",
       "\n",
       "#sk-container-id-1 div.sk-estimator.fitted {\n",
       "  /* fitted */\n",
       "  background-color: var(--sklearn-color-fitted-level-0);\n",
       "}\n",
       "\n",
       "/* on hover */\n",
       "#sk-container-id-1 div.sk-estimator:hover {\n",
       "  /* unfitted */\n",
       "  background-color: var(--sklearn-color-unfitted-level-2);\n",
       "}\n",
       "\n",
       "#sk-container-id-1 div.sk-estimator.fitted:hover {\n",
       "  /* fitted */\n",
       "  background-color: var(--sklearn-color-fitted-level-2);\n",
       "}\n",
       "\n",
       "/* Specification for estimator info (e.g. \"i\" and \"?\") */\n",
       "\n",
       "/* Common style for \"i\" and \"?\" */\n",
       "\n",
       ".sk-estimator-doc-link,\n",
       "a:link.sk-estimator-doc-link,\n",
       "a:visited.sk-estimator-doc-link {\n",
       "  float: right;\n",
       "  font-size: smaller;\n",
       "  line-height: 1em;\n",
       "  font-family: monospace;\n",
       "  background-color: var(--sklearn-color-background);\n",
       "  border-radius: 1em;\n",
       "  height: 1em;\n",
       "  width: 1em;\n",
       "  text-decoration: none !important;\n",
       "  margin-left: 0.5em;\n",
       "  text-align: center;\n",
       "  /* unfitted */\n",
       "  border: var(--sklearn-color-unfitted-level-1) 1pt solid;\n",
       "  color: var(--sklearn-color-unfitted-level-1);\n",
       "}\n",
       "\n",
       ".sk-estimator-doc-link.fitted,\n",
       "a:link.sk-estimator-doc-link.fitted,\n",
       "a:visited.sk-estimator-doc-link.fitted {\n",
       "  /* fitted */\n",
       "  border: var(--sklearn-color-fitted-level-1) 1pt solid;\n",
       "  color: var(--sklearn-color-fitted-level-1);\n",
       "}\n",
       "\n",
       "/* On hover */\n",
       "div.sk-estimator:hover .sk-estimator-doc-link:hover,\n",
       ".sk-estimator-doc-link:hover,\n",
       "div.sk-label-container:hover .sk-estimator-doc-link:hover,\n",
       ".sk-estimator-doc-link:hover {\n",
       "  /* unfitted */\n",
       "  background-color: var(--sklearn-color-unfitted-level-3);\n",
       "  color: var(--sklearn-color-background);\n",
       "  text-decoration: none;\n",
       "}\n",
       "\n",
       "div.sk-estimator.fitted:hover .sk-estimator-doc-link.fitted:hover,\n",
       ".sk-estimator-doc-link.fitted:hover,\n",
       "div.sk-label-container:hover .sk-estimator-doc-link.fitted:hover,\n",
       ".sk-estimator-doc-link.fitted:hover {\n",
       "  /* fitted */\n",
       "  background-color: var(--sklearn-color-fitted-level-3);\n",
       "  color: var(--sklearn-color-background);\n",
       "  text-decoration: none;\n",
       "}\n",
       "\n",
       "/* Span, style for the box shown on hovering the info icon */\n",
       ".sk-estimator-doc-link span {\n",
       "  display: none;\n",
       "  z-index: 9999;\n",
       "  position: relative;\n",
       "  font-weight: normal;\n",
       "  right: .2ex;\n",
       "  padding: .5ex;\n",
       "  margin: .5ex;\n",
       "  width: min-content;\n",
       "  min-width: 20ex;\n",
       "  max-width: 50ex;\n",
       "  color: var(--sklearn-color-text);\n",
       "  box-shadow: 2pt 2pt 4pt #999;\n",
       "  /* unfitted */\n",
       "  background: var(--sklearn-color-unfitted-level-0);\n",
       "  border: .5pt solid var(--sklearn-color-unfitted-level-3);\n",
       "}\n",
       "\n",
       ".sk-estimator-doc-link.fitted span {\n",
       "  /* fitted */\n",
       "  background: var(--sklearn-color-fitted-level-0);\n",
       "  border: var(--sklearn-color-fitted-level-3);\n",
       "}\n",
       "\n",
       ".sk-estimator-doc-link:hover span {\n",
       "  display: block;\n",
       "}\n",
       "\n",
       "/* \"?\"-specific style due to the `<a>` HTML tag */\n",
       "\n",
       "#sk-container-id-1 a.estimator_doc_link {\n",
       "  float: right;\n",
       "  font-size: 1rem;\n",
       "  line-height: 1em;\n",
       "  font-family: monospace;\n",
       "  background-color: var(--sklearn-color-background);\n",
       "  border-radius: 1rem;\n",
       "  height: 1rem;\n",
       "  width: 1rem;\n",
       "  text-decoration: none;\n",
       "  /* unfitted */\n",
       "  color: var(--sklearn-color-unfitted-level-1);\n",
       "  border: var(--sklearn-color-unfitted-level-1) 1pt solid;\n",
       "}\n",
       "\n",
       "#sk-container-id-1 a.estimator_doc_link.fitted {\n",
       "  /* fitted */\n",
       "  border: var(--sklearn-color-fitted-level-1) 1pt solid;\n",
       "  color: var(--sklearn-color-fitted-level-1);\n",
       "}\n",
       "\n",
       "/* On hover */\n",
       "#sk-container-id-1 a.estimator_doc_link:hover {\n",
       "  /* unfitted */\n",
       "  background-color: var(--sklearn-color-unfitted-level-3);\n",
       "  color: var(--sklearn-color-background);\n",
       "  text-decoration: none;\n",
       "}\n",
       "\n",
       "#sk-container-id-1 a.estimator_doc_link.fitted:hover {\n",
       "  /* fitted */\n",
       "  background-color: var(--sklearn-color-fitted-level-3);\n",
       "}\n",
       "</style><div id=\"sk-container-id-1\" class=\"sk-top-container\"><div class=\"sk-text-repr-fallback\"><pre>LinearRegression()</pre><b>In a Jupyter environment, please rerun this cell to show the HTML representation or trust the notebook. <br />On GitHub, the HTML representation is unable to render, please try loading this page with nbviewer.org.</b></div><div class=\"sk-container\" hidden><div class=\"sk-item\"><div class=\"sk-estimator fitted sk-toggleable\"><input class=\"sk-toggleable__control sk-hidden--visually\" id=\"sk-estimator-id-1\" type=\"checkbox\" checked><label for=\"sk-estimator-id-1\" class=\"sk-toggleable__label fitted sk-toggleable__label-arrow\"><div><div>LinearRegression</div></div><div><a class=\"sk-estimator-doc-link fitted\" rel=\"noreferrer\" target=\"_blank\" href=\"https://scikit-learn.org/1.6/modules/generated/sklearn.linear_model.LinearRegression.html\">?<span>Documentation for LinearRegression</span></a><span class=\"sk-estimator-doc-link fitted\">i<span>Fitted</span></span></div></label><div class=\"sk-toggleable__content fitted\"><pre>LinearRegression()</pre></div> </div></div></div></div>"
      ],
      "text/plain": [
       "LinearRegression()"
      ]
     },
     "execution_count": 47,
     "metadata": {},
     "output_type": "execute_result"
    }
   ],
   "source": [
    "lr.fit(x_train,y_train)"
   ]
  },
  {
   "cell_type": "code",
   "execution_count": 49,
   "id": "29db4c2b",
   "metadata": {},
   "outputs": [],
   "source": [
    "predslr=lr.predict(x_test)"
   ]
  },
  {
   "cell_type": "code",
   "execution_count": 50,
   "id": "29d87fec",
   "metadata": {},
   "outputs": [],
   "source": [
    "from sklearn.metrics import mean_absolute_error"
   ]
  },
  {
   "cell_type": "code",
   "execution_count": 52,
   "id": "8265a61a",
   "metadata": {},
   "outputs": [
    {
     "data": {
      "text/plain": [
       "8252.420748999193"
      ]
     },
     "execution_count": 52,
     "metadata": {},
     "output_type": "execute_result"
    }
   ],
   "source": [
    "mean_absolute_error(predslr,y_test)"
   ]
  },
  {
   "cell_type": "code",
   "execution_count": 56,
   "id": "5f81a7b4",
   "metadata": {},
   "outputs": [
    {
     "data": {
      "text/plain": [
       "['linearmodel.pkl']"
      ]
     },
     "execution_count": 56,
     "metadata": {},
     "output_type": "execute_result"
    }
   ],
   "source": [
    "import joblib\n",
    "joblib.dump(lr,\"linearmodel.pkl\")"
   ]
  },
  {
   "cell_type": "code",
   "execution_count": null,
   "id": "d6e99d67",
   "metadata": {},
   "outputs": [],
   "source": []
  },
  {
   "cell_type": "code",
   "execution_count": null,
   "id": "07d21215",
   "metadata": {},
   "outputs": [],
   "source": []
  },
  {
   "cell_type": "code",
   "execution_count": null,
   "id": "cb38b409",
   "metadata": {},
   "outputs": [],
   "source": []
  }
 ],
 "metadata": {
  "kernelspec": {
   "display_name": "Python 3",
   "language": "python",
   "name": "python3"
  },
  "language_info": {
   "codemirror_mode": {
    "name": "ipython",
    "version": 3
   },
   "file_extension": ".py",
   "mimetype": "text/x-python",
   "name": "python",
   "nbconvert_exporter": "python",
   "pygments_lexer": "ipython3",
   "version": "3.11.9"
  }
 },
 "nbformat": 4,
 "nbformat_minor": 5
}
